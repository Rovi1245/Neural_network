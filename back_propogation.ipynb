{
  "nbformat": 4,
  "nbformat_minor": 0,
  "metadata": {
    "colab": {
      "provenance": []
    },
    "kernelspec": {
      "name": "python3",
      "display_name": "Python 3"
    },
    "language_info": {
      "name": "python"
    }
  },
  "cells": [
    {
      "cell_type": "code",
      "execution_count": 4,
      "metadata": {
        "colab": {
          "base_uri": "https://localhost:8080/",
          "height": 1000
        },
        "id": "5RhNAI-JvTPh",
        "outputId": "df9b36a4-61ad-4d9f-8623-8c46e7032a8f"
      },
      "outputs": [
        {
          "output_type": "stream",
          "name": "stdout",
          "text": [
            "Epoch 1/10\n",
            "4/4 - 1s - loss: 1.0011 - accuracy: 0.5833 - 524ms/epoch - 131ms/step\n",
            "Epoch 2/10\n",
            "4/4 - 0s - loss: 0.9230 - accuracy: 0.7667 - 12ms/epoch - 3ms/step\n",
            "Epoch 3/10\n",
            "4/4 - 0s - loss: 0.8549 - accuracy: 0.8000 - 10ms/epoch - 3ms/step\n",
            "Epoch 4/10\n",
            "4/4 - 0s - loss: 0.7940 - accuracy: 0.8000 - 11ms/epoch - 3ms/step\n",
            "Epoch 5/10\n",
            "4/4 - 0s - loss: 0.7413 - accuracy: 0.8000 - 11ms/epoch - 3ms/step\n",
            "Epoch 6/10\n",
            "4/4 - 0s - loss: 0.6955 - accuracy: 0.8000 - 11ms/epoch - 3ms/step\n",
            "Epoch 7/10\n",
            "4/4 - 0s - loss: 0.6565 - accuracy: 0.8083 - 12ms/epoch - 3ms/step\n",
            "Epoch 8/10\n",
            "4/4 - 0s - loss: 0.6225 - accuracy: 0.8083 - 12ms/epoch - 3ms/step\n",
            "Epoch 9/10\n",
            "4/4 - 0s - loss: 0.5916 - accuracy: 0.8083 - 12ms/epoch - 3ms/step\n",
            "Epoch 10/10\n",
            "4/4 - 0s - loss: 0.5658 - accuracy: 0.8167 - 12ms/epoch - 3ms/step\n",
            "1/1 [==============================] - 0s 126ms/step - loss: 0.5140 - accuracy: 0.8667\n",
            "Test loss: 0.5139631628990173\n",
            "Test accuracy: 0.8666666746139526\n",
            "1/1 [==============================] - 0s 57ms/step\n",
            "Test accuracy: 0.8666666666666667\n",
            "Confusion Matrix:\n",
            " [[10  0  0]\n",
            " [ 0  5  4]\n",
            " [ 0  0 11]]\n"
          ]
        },
        {
          "output_type": "display_data",
          "data": {
            "text/plain": [
              "<Figure size 1000x700 with 2 Axes>"
            ],
            "image/png": "[encoded data removed]"
          },
          "metadata": {}
        }
      ],
      "source": [
        "import pandas as pd\n",
        "import numpy as np\n",
        "import matplotlib.pyplot as plt\n",
        "import seaborn as sn\n",
        "from sklearn.model_selection import train_test_split\n",
        "from sklearn.preprocessing import StandardScaler\n",
        "import tensorflow as tf\n",
        "from tensorflow import keras\n",
        "from sklearn.metrics import confusion_matrix, accuracy_score\n",
        "from sklearn.datasets import load_iris\n",
        "\n",
        "\n",
        "iris = load_iris()\n",
        "X = iris.data\n",
        "y = iris.target\n",
        "\n",
        "\n",
        "X_train, X_test, y_train, y_test = train_test_split(X, y, test_size=0.2, random_state=42)\n",
        "\n",
        "\n",
        "scaler = StandardScaler()\n",
        "X_train = scaler.fit_transform(X_train)\n",
        "X_test = scaler.transform(X_test)\n",
        "\n",
        "\n",
        "model = keras.Sequential([\n",
        "    keras.layers.Input(shape=(X_train.shape[1],)),\n",
        "    keras.layers.Dense(100, activation='relu'),\n",
        "    keras.layers.Dense(3, activation='softmax')\n",
        "])\n",
        "\n",
        "model.compile(optimizer='adam',\n",
        "              loss='sparse_categorical_crossentropy',\n",
        "              metrics=['accuracy'])\n",
        "\n",
        "\n",
        "model.fit(X_train, y_train, epochs=10, verbose=2)\n",
        "\n",
        "\n",
        "loss, accuracy = model.evaluate(X_test, y_test)\n",
        "print('Test loss:', loss)\n",
        "print('Test accuracy:', accuracy)\n",
        "\n",
        "\n",
        "y_predicted = model.predict(X_test)\n",
        "y_predicted_labels = [np.argmax(i) for i in y_predicted]\n",
        "\n",
        "\n",
        "accuracy = accuracy_score(y_test, y_predicted_labels)\n",
        "cm = confusion_matrix(y_test, y_predicted_labels)\n",
        "\n",
        "print('Test accuracy:', accuracy)\n",
        "print('Confusion Matrix:\\n', cm)\n",
        "\n",
        "\n",
        "plt.figure(figsize=(10, 7))\n",
        "sn.heatmap(cm, annot=True, fmt='d')\n",
        "plt.xlabel('Predicted')\n",
        "plt.ylabel('Truth')\n",
        "plt.show()\n"
      ]
    },
    {
      "cell_type": "code",
      "source": [],
      "metadata": {
        "id": "r1xMcendvtTA"
      },
      "execution_count": null,
      "outputs": []
    }
  ]
}