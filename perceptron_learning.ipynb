{
  "nbformat": 4,
  "nbformat_minor": 0,
  "metadata": {
    "colab": {
      "provenance": []
    },
    "kernelspec": {
      "name": "python3",
      "display_name": "Python 3"
    },
    "language_info": {
      "name": "python"
    }
  },
  "cells": [
    {
      "cell_type": "code",
      "execution_count": 2,
      "metadata": {
        "id": "y7Me5v6ixA9r"
      },
      "outputs": [],
      "source": [
        "import tensorflow as tf\n",
        "import numpy as np\n",
        "import matplotlib.pyplot as plt\n",
        "from sklearn.metrics import accuracy_score,r2_score\n",
        "from sklearn.model_selection import train_test_split\n",
        "from sklearn.preprocessing import LabelEncoder\n",
        "import pandas as pd"
      ]
    },
    {
      "cell_type": "code",
      "source": [
        "df = pd.read_csv('/content/sonar data.csv')\n",
        "print(df.shape)\n",
        "X = df.iloc[:,:-1].values\n",
        "y = df.iloc[:,-1].values\n",
        "\n",
        "label_encoder = LabelEncoder()\n",
        "y = label_encoder.fit_transform(y)\n",
        "X_test,X_train,y_test,y_train = train_test_split(X,y,test_size = 0.2,random_state = 42)\n"
      ],
      "metadata": {
        "colab": {
          "base_uri": "https://localhost:8080/"
        },
        "id": "5yUnCdM8UjH-",
        "outputId": "874b2568-41ec-48f1-92ea-092160e9b0c9"
      },
      "execution_count": 8,
      "outputs": [
        {
          "output_type": "stream",
          "name": "stdout",
          "text": [
            "(207, 61)\n"
          ]
        }
      ]
    },
    {
      "cell_type": "code",
      "source": [
        "model = tf.keras.models.Sequential([\n",
        "    tf.keras.layers.Input(shape = (X_train.shape[1],)),\n",
        "    tf.keras.layers.Dense(1,activation = 'sigmoid')\n",
        "])"
      ],
      "metadata": {
        "id": "uGZQUnj205P8"
      },
      "execution_count": 22,
      "outputs": []
    },
    {
      "cell_type": "code",
      "source": [
        "model.compile(optimizer = 'sgd',loss = 'binary_crossentropy',metrics = ['accuracy'])"
      ],
      "metadata": {
        "id": "gSjZndky2Hvb"
      },
      "execution_count": 23,
      "outputs": []
    },
    {
      "cell_type": "code",
      "source": [
        "model.fit(X_train,y_train,epochs = 10,batch_size = 32,verbose = 1)"
      ],
      "metadata": {
        "colab": {
          "base_uri": "https://localhost:8080/"
        },
        "id": "Ap0OUMB82Wfu",
        "outputId": "2e2850a2-da8c-44b2-cb6b-aee61fbee774"
      },
      "execution_count": 42,
      "outputs": [
        {
          "output_type": "stream",
          "name": "stdout",
          "text": [
            "Epoch 1/10\n",
            "2/2 [==============================] - 0s 8ms/step - loss: 0.5763 - accuracy: 0.7143\n",
            "Epoch 2/10\n",
            "2/2 [==============================] - 0s 7ms/step - loss: 0.5759 - accuracy: 0.7143\n",
            "Epoch 3/10\n",
            "2/2 [==============================] - 0s 8ms/step - loss: 0.5758 - accuracy: 0.7143\n",
            "Epoch 4/10\n",
            "2/2 [==============================] - 0s 7ms/step - loss: 0.5756 - accuracy: 0.7143\n",
            "Epoch 5/10\n",
            "2/2 [==============================] - 0s 8ms/step - loss: 0.5755 - accuracy: 0.7143\n",
            "Epoch 6/10\n",
            "2/2 [==============================] - 0s 8ms/step - loss: 0.5754 - accuracy: 0.7143\n",
            "Epoch 7/10\n",
            "2/2 [==============================] - 0s 8ms/step - loss: 0.5753 - accuracy: 0.7143\n",
            "Epoch 8/10\n",
            "2/2 [==============================] - 0s 10ms/step - loss: 0.5752 - accuracy: 0.7143\n",
            "Epoch 9/10\n",
            "2/2 [==============================] - 0s 7ms/step - loss: 0.5749 - accuracy: 0.7143\n",
            "Epoch 10/10\n",
            "2/2 [==============================] - 0s 8ms/step - loss: 0.5748 - accuracy: 0.7143\n"
          ]
        },
        {
          "output_type": "execute_result",
          "data": {
            "text/plain": [
              "<keras.src.callbacks.History at 0x7d484b76f7f0>"
            ]
          },
          "metadata": {},
          "execution_count": 42
        }
      ]
    },
    {
      "cell_type": "code",
      "source": [
        "test_loss, test_accuracy = model.evaluate(X_test, y_test, verbose=0)\n",
        "print(f'Test Accuracy: {test_accuracy * 100:.2f}%')"
      ],
      "metadata": {
        "colab": {
          "base_uri": "https://localhost:8080/"
        },
        "id": "u1lsUxFz32Ah",
        "outputId": "895ecdd0-d671-4aa6-bbcb-34215b6c149e"
      },
      "execution_count": 48,
      "outputs": [
        {
          "output_type": "stream",
          "name": "stdout",
          "text": [
            "Test Accuracy: 52.73%\n"
          ]
        }
      ]
    },
    {
      "cell_type": "code",
      "source": [
        "model.compile(optimizer=tf.keras.optimizers.SGD(), loss='binary_crossentropy', metrics=['accuracy'])"
      ],
      "metadata": {
        "id": "893qY0oF35wu"
      },
      "execution_count": 46,
      "outputs": []
    },
    {
      "cell_type": "code",
      "source": [
        "model.fit(X_train, y_train, epochs=20, verbose=1)"
      ],
      "metadata": {
        "colab": {
          "base_uri": "https://localhost:8080/"
        },
        "id": "bxHexrWr6MB6",
        "outputId": "7b264d28-b22e-46a6-e470-4e1d89a2bf75"
      },
      "execution_count": 47,
      "outputs": [
        {
          "output_type": "stream",
          "name": "stdout",
          "text": [
            "Epoch 1/20\n",
            "2/2 [==============================] - 0s 8ms/step - loss: 0.5723 - accuracy: 0.7143\n",
            "Epoch 2/20\n",
            "2/2 [==============================] - 0s 7ms/step - loss: 0.5721 - accuracy: 0.7143\n",
            "Epoch 3/20\n",
            "2/2 [==============================] - 0s 7ms/step - loss: 0.5719 - accuracy: 0.7143\n",
            "Epoch 4/20\n",
            "2/2 [==============================] - 0s 7ms/step - loss: 0.5720 - accuracy: 0.7143\n",
            "Epoch 5/20\n",
            "2/2 [==============================] - 0s 7ms/step - loss: 0.5721 - accuracy: 0.7143\n",
            "Epoch 6/20\n",
            "2/2 [==============================] - 0s 7ms/step - loss: 0.5717 - accuracy: 0.7143\n",
            "Epoch 7/20\n",
            "2/2 [==============================] - 0s 7ms/step - loss: 0.5715 - accuracy: 0.7143\n",
            "Epoch 8/20\n",
            "2/2 [==============================] - 0s 7ms/step - loss: 0.5712 - accuracy: 0.7143\n",
            "Epoch 9/20\n",
            "2/2 [==============================] - 0s 7ms/step - loss: 0.5711 - accuracy: 0.7143\n",
            "Epoch 10/20\n",
            "2/2 [==============================] - 0s 8ms/step - loss: 0.5713 - accuracy: 0.7143\n",
            "Epoch 11/20\n",
            "2/2 [==============================] - 0s 6ms/step - loss: 0.5710 - accuracy: 0.7143\n",
            "Epoch 12/20\n",
            "2/2 [==============================] - 0s 6ms/step - loss: 0.5709 - accuracy: 0.7143\n",
            "Epoch 13/20\n",
            "2/2 [==============================] - 0s 7ms/step - loss: 0.5707 - accuracy: 0.7143\n",
            "Epoch 14/20\n",
            "2/2 [==============================] - 0s 7ms/step - loss: 0.5709 - accuracy: 0.7143\n",
            "Epoch 15/20\n",
            "2/2 [==============================] - 0s 8ms/step - loss: 0.5706 - accuracy: 0.6905\n",
            "Epoch 16/20\n",
            "2/2 [==============================] - 0s 7ms/step - loss: 0.5704 - accuracy: 0.7143\n",
            "Epoch 17/20\n",
            "2/2 [==============================] - 0s 9ms/step - loss: 0.5705 - accuracy: 0.7143\n",
            "Epoch 18/20\n",
            "2/2 [==============================] - 0s 7ms/step - loss: 0.5704 - accuracy: 0.6905\n",
            "Epoch 19/20\n",
            "2/2 [==============================] - 0s 7ms/step - loss: 0.5700 - accuracy: 0.7143\n",
            "Epoch 20/20\n",
            "2/2 [==============================] - 0s 7ms/step - loss: 0.5700 - accuracy: 0.7143\n"
          ]
        },
        {
          "output_type": "execute_result",
          "data": {
            "text/plain": [
              "<keras.src.callbacks.History at 0x7d484b6488e0>"
            ]
          },
          "metadata": {},
          "execution_count": 47
        }
      ]
    },
    {
      "cell_type": "code",
      "source": [],
      "metadata": {
        "colab": {
          "base_uri": "https://localhost:8080/"
        },
        "id": "ABYvvtdy6UjN",
        "outputId": "30b3af81-594b-4894-f5be-1364bddb19f8"
      },
      "execution_count": 41,
      "outputs": [
        {
          "output_type": "stream",
          "name": "stdout",
          "text": [
            "Tuned Test Accuracy: 52.73%\n"
          ]
        }
      ]
    }
  ]
}